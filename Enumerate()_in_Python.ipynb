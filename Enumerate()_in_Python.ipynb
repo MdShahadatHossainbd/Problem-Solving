{
  "nbformat": 4,
  "nbformat_minor": 0,
  "metadata": {
    "colab": {
      "name": "Enumerate() in Python.ipynb",
      "provenance": [],
      "authorship_tag": "ABX9TyPCjX72bVvb1veqb2H61SyZ",
      "include_colab_link": true
    },
    "kernelspec": {
      "name": "python3",
      "display_name": "Python 3"
    }
  },
  "cells": [
    {
      "cell_type": "markdown",
      "metadata": {
        "id": "view-in-github",
        "colab_type": "text"
      },
      "source": [
        "<a href=\"https://colab.research.google.com/github/MdShahadatHossainbd/Problem-Solving/blob/main/Enumerate()_in_Python.ipynb\" target=\"_parent\"><img src=\"https://colab.research.google.com/assets/colab-badge.svg\" alt=\"Open In Colab\"/></a>"
      ]
    },
    {
      "cell_type": "code",
      "metadata": {
        "colab": {
          "base_uri": "https://localhost:8080/"
        },
        "id": "UBc8zkbuNbQY",
        "outputId": "7bf75749-e11d-4b1a-c1cf-5a3b25846db1"
      },
      "source": [
        "# Python program to illustrate\r\n",
        "# enumerate function\r\n",
        "l1 = [\"eat\",\"sleep\",\"repeat\"]\r\n",
        "s1 = \"geek\"\r\n",
        "\r\n",
        "# creating enumerate objects\r\n",
        "obj1 = enumerate(l1)\r\n",
        "obj2 = enumerate(s1)\r\n",
        "\r\n",
        "print (\"Return type:\",type(obj1))\r\n",
        "print (list(enumerate(l1)))\r\n",
        "\r\n",
        "# changing start index to 2 from 0\r\n",
        "print (list(enumerate(s1,2)))"
      ],
      "execution_count": 1,
      "outputs": [
        {
          "output_type": "stream",
          "text": [
            "Return type: <class 'enumerate'>\n",
            "[(0, 'eat'), (1, 'sleep'), (2, 'repeat')]\n",
            "[(2, 'g'), (3, 'e'), (4, 'e'), (5, 'k')]\n"
          ],
          "name": "stdout"
        }
      ]
    },
    {
      "cell_type": "code",
      "metadata": {
        "colab": {
          "base_uri": "https://localhost:8080/"
        },
        "id": "ybKNb0uFR323",
        "outputId": "305baaea-e92e-4565-8615-e180316cad9d"
      },
      "source": [
        "# Python program to illustrate\r\n",
        "# enumerate function in loops\r\n",
        "l1 = [\"eat\",\"sleep\",\"repeat\"]\r\n",
        "\r\n",
        "# printing the tuples in object directly\r\n",
        "for ele in enumerate(l1):\r\n",
        "\tprint(ele)\r\n",
        "print()\r\n",
        "# changing index and printing separately\r\n",
        "for count,ele in enumerate(l1,100):\r\n",
        "\tprint(count,ele)\r\n"
      ],
      "execution_count": 3,
      "outputs": [
        {
          "output_type": "stream",
          "text": [
            "(0, 'eat')\n",
            "(1, 'sleep')\n",
            "(2, 'repeat')\n",
            "\n",
            "100 eat\n",
            "101 sleep\n",
            "102 repeat\n"
          ],
          "name": "stdout"
        }
      ]
    }
  ]
}