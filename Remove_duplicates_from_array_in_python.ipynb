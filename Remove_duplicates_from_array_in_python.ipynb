{
  "nbformat": 4,
  "nbformat_minor": 0,
  "metadata": {
    "colab": {
      "name": "Remove duplicates from array in python.ipynb",
      "provenance": [],
      "authorship_tag": "ABX9TyP1fZ3mgTtL0hDfElC/fFvs",
      "include_colab_link": true
    },
    "kernelspec": {
      "name": "python3",
      "display_name": "Python 3"
    }
  },
  "cells": [
    {
      "cell_type": "markdown",
      "metadata": {
        "id": "view-in-github",
        "colab_type": "text"
      },
      "source": [
        "<a href=\"https://colab.research.google.com/github/MdShahadatHossainbd/Problem-Solving/blob/main/Remove_duplicates_from_array_in_python.ipynb\" target=\"_parent\"><img src=\"https://colab.research.google.com/assets/colab-badge.svg\" alt=\"Open In Colab\"/></a>"
      ]
    },
    {
      "cell_type": "code",
      "metadata": {
        "colab": {
          "base_uri": "https://localhost:8080/"
        },
        "id": "po7tUp-JrEqf",
        "outputId": "9b51de7d-e1b4-4d4b-c31a-c97939ff1e25"
      },
      "source": [
        "mylist = [\"a\", \"b\", \"a\", \"c\", \"c\"]\r\n",
        "mylist = list(dict.fromkeys(mylist))\r\n",
        "print(mylist)"
      ],
      "execution_count": 1,
      "outputs": [
        {
          "output_type": "stream",
          "text": [
            "['a', 'b', 'c']\n"
          ],
          "name": "stdout"
        }
      ]
    },
    {
      "cell_type": "code",
      "metadata": {
        "colab": {
          "base_uri": "https://localhost:8080/"
        },
        "id": "FfebieVnsyuv",
        "outputId": "34455c37-a8e3-4e7a-f58c-ea5b7b245609"
      },
      "source": [
        "class Solution(object):\r\n",
        "   def removeDuplicates(self, nums):\r\n",
        "      \"\"\"\r\n",
        "      :type nums: List[int]\r\n",
        "      :rtype: int\r\n",
        "      \"\"\"\r\n",
        "      if len(nums) == 0:\r\n",
        "         return 0\r\n",
        "      length = 1\r\n",
        "      previous = nums[0]\r\n",
        "      index = 1\r\n",
        "      for i in range(1,len(nums)):\r\n",
        "         if nums[i] != previous:\r\n",
        "            length += 1\r\n",
        "            previous = nums[i]\r\n",
        "            nums[index] = nums[i]\r\n",
        "            index+=1\r\n",
        "      return length\r\n",
        "input_list = [1,1,2,2,2,3,3,3,3,4,5,5,5,6,7,8]\r\n",
        "ob1 = Solution()\r\n",
        "print(ob1.removeDuplicates(input_list))"
      ],
      "execution_count": 4,
      "outputs": [
        {
          "output_type": "stream",
          "text": [
            "8\n"
          ],
          "name": "stdout"
        }
      ]
    },
    {
      "cell_type": "code",
      "metadata": {
        "colab": {
          "base_uri": "https://localhost:8080/"
        },
        "id": "CYQ5IBpou6sq",
        "outputId": "a66ee61b-1a5e-4a1b-87fe-8038569ab9b5"
      },
      "source": [
        "# Python3 code to demonstrate \r\n",
        "# Remove duplicate words from Strings in List \r\n",
        "# using loop + set() + split() \r\n",
        "\r\n",
        "# Initializing list \r\n",
        "test_list = ['gfg, best, gfg', 'I, am, I', 'two, two, three' ] \r\n",
        "\r\n",
        "# printing original list \r\n",
        "print(\"The original list is : \" + str(test_list)) \r\n",
        "\r\n",
        "# Remove duplicate words from Strings<code></code> in List \r\n",
        "# using loop + set() + split() \r\n",
        "res = [] \r\n",
        "for strs in test_list: \r\n",
        "\tres.append(set(strs.split(\", \"))) \r\n",
        "\t\r\n",
        "# printing result \r\n",
        "print (\"The list after duplicate words removal is : \" + str(res)) \r\n"
      ],
      "execution_count": 5,
      "outputs": [
        {
          "output_type": "stream",
          "text": [
            "The original list is : ['gfg, best, gfg', 'I, am, I', 'two, two, three']\n",
            "The list after duplicate words removal is : [{'best', 'gfg'}, {'am', 'I'}, {'three', 'two'}]\n"
          ],
          "name": "stdout"
        }
      ]
    },
    {
      "cell_type": "code",
      "metadata": {
        "id": "5yY6G0tsu_kV"
      },
      "source": [
        ""
      ],
      "execution_count": null,
      "outputs": []
    }
  ]
}